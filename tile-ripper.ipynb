{
 "cells": [
  {
   "cell_type": "markdown",
   "metadata": {},
   "source": [
    "## How to use tile ripper\n",
    "\n",
    "#### 1. Open openstreet map https://www.openstreetmap.org/#map=5/45.337/21.445\n",
    "\n",
    "#### 2. Navigate to a location where you may find railroads\n",
    "\n",
    "#### 3. Zoom in all the way (level 19)\n",
    "\n",
    "#### 4. Open developer tools in browser (firefox) and start monitoring the network\n",
    "\n",
    "#### 5. Click refres so that browser pulls tiles from server\n",
    "\n",
    "#### 6. Grab one of the tiles and check the url. It should look something like this \n",
    "\n",
    "https://a.tile.openstreetmap.org/19/292607/179395.png\n",
    "\n",
    "#### 7. The first number is long (x) and the second is lat (y)\n",
    "\n",
    "#### 8. Pass those values to the constructor method \n",
    "\n",
    "```tr = TileRipper(lat, lon)```\n",
    "\n",
    "#### 9. Run the method which pull tailes. \n",
    "\n",
    "Parameters  lat_s, lat_n, lon_w, lon_e are there to allow pass number of tailes to south, north west and east from given tile.\n"
   ]
  },
  {
   "cell_type": "code",
   "execution_count": 96,
   "metadata": {},
   "outputs": [],
   "source": [
    "from urllib.request import urlopen\n",
    "from urllib.error import HTTPError\n",
    "import os\n",
    "from ipywidgets import FloatProgress\n",
    "from IPython.display import Image, display\n",
    "from ipywidgets import interact, interactive, fixed, interact_manual\n",
    "import ipywidgets as widgets\n",
    "from IPython.display import clear_output\n"
   ]
  },
  {
   "cell_type": "code",
   "execution_count": 97,
   "metadata": {},
   "outputs": [],
   "source": [
    "THE_URL = \"https://c.tile.openstreetmap.org/19/\"\n",
    "DIRECTORY = \"tile-data/\"\n",
    "RAILROAD = 'railroad/'\n",
    "OTHER = 'other/'\n",
    "\n",
    "out = widgets.Output()\n",
    "\n",
    "def on_railroad_button_clicked(b):\n",
    "    files=os.listdir(DIRECTORY)\n",
    "    if len(files) == 0:\n",
    "        return\n",
    "    the_file = files[0]\n",
    "    os.rename(DIRECTORY + the_file, RAILROAD + the_file)\n",
    "    with out:\n",
    "        clear_output()\n",
    "        if len(files) > 1:\n",
    "            display(Image(DIRECTORY+files[1]))\n",
    "\n",
    "def on_other_button_clicked(b):\n",
    "    files=os.listdir(DIRECTORY)\n",
    "    if len(files) == 0:\n",
    "        return\n",
    "    the_file = files[0]\n",
    "    os.rename(DIRECTORY + the_file, OTHER + the_file)\n",
    "    with out:\n",
    "        clear_output()\n",
    "        if len(files) > 1:\n",
    "            display(Image(DIRECTORY+files[1]))\n",
    "        \n",
    "        \n",
    "class TileRipper:    \n",
    "    def __init__(self, lat, lon):\n",
    "        self.THE_URL = THE_URL\n",
    "        self.DIRECTORY = DIRECTORY\n",
    "        self.RAILROAD = RAILROAD\n",
    "        self.OTHER = OTHER\n",
    "        self.lat = lat\n",
    "        self.lon = lon\n",
    "        self.fpb = FloatProgress(min=0, max=100)\n",
    "        display(self.fpb)\n",
    "        if not os.path.exists(self.DIRECTORY):\n",
    "            os.makedirs(self.DIRECTORY)\n",
    "        if not os.path.exists(self.RAILROAD):\n",
    "            os.makedirs(self.RAILROAD)\n",
    "        if not os.path.exists(self.OTHER):\n",
    "            os.makedirs(self.OTHER)\n",
    "        \n",
    "\n",
    "    def download_tiles(self, lat_s, lat_n, lon_w, lon_e):\n",
    "        lat = self.lat\n",
    "        lon = self.lon\n",
    "        self.fpb.max = (lat_s + lat_n) * (lon_w + lon_e)\n",
    "        \n",
    "        for x in range(lon-lon_w, lon+lon_e):\n",
    "            for y in range(lat-lat_s, lat+lat_n):\n",
    "                self.fpb.value+=1\n",
    "                try:\n",
    "                    resource = urlopen(self.THE_URL + str(x) + \"/\" + str(y) + \".png\")\n",
    "                    output = open(self.DIRECTORY + \"/\" + str(x) + \"_\" + str(y) + \".png\", \"wb\")\n",
    "                    output.write(resource.read())\n",
    "                    output.close()\n",
    "                except HTTPError:\n",
    "                    print(\"Failed to download: \" + self.THE_URL + str(x) + \"/\" + str(y) + \".png\")\n",
    "                \n",
    "    def assign_tiles_labels(self):\n",
    "        files=os.listdir(self.DIRECTORY)\n",
    "        railroad_button = widgets.Button(description=\"Rail\")\n",
    "        railroad_button.on_click(on_railroad_button_clicked)\n",
    "        other_button = widgets.Button(description=\"Other\")\n",
    "        other_button.on_click(on_other_button_clicked)\n",
    "        display(railroad_button)\n",
    "        display(other_button)\n",
    "        files=os.listdir(self.DIRECTORY)\n",
    "        if len(files) == 0:\n",
    "            return\n",
    "        the_file = files[0]\n",
    "        with out:\n",
    "            display(Image(self.DIRECTORY+the_file))\n",
    "        display(out)\n",
    "        \n",
    "        "
   ]
  },
  {
   "cell_type": "code",
   "execution_count": 98,
   "metadata": {},
   "outputs": [],
   "source": [
    "#https://c.tile.openstreetmap.org/19/134850/195347.png\n",
    "lon = 134850\n",
    "lat = 195347"
   ]
  },
  {
   "cell_type": "code",
   "execution_count": 99,
   "metadata": {},
   "outputs": [
    {
     "data": {
      "application/vnd.jupyter.widget-view+json": {
       "model_id": "50210b21daa44a4bac29d3b5fd6cc1bc",
       "version_major": 2,
       "version_minor": 0
      },
      "text/plain": [
       "FloatProgress(value=0.0)"
      ]
     },
     "metadata": {},
     "output_type": "display_data"
    },
    {
     "name": "stdout",
     "output_type": "stream",
     "text": [
      "Failed to download: https://c.tile.openstreetmap.org/19/134840/195355.png\n",
      "Failed to download: https://c.tile.openstreetmap.org/19/134840/195356.png\n",
      "Failed to download: https://c.tile.openstreetmap.org/19/134841/195337.png\n",
      "Failed to download: https://c.tile.openstreetmap.org/19/134841/195342.png\n",
      "Failed to download: https://c.tile.openstreetmap.org/19/134841/195352.png\n",
      "Failed to download: https://c.tile.openstreetmap.org/19/134841/195353.png\n",
      "Failed to download: https://c.tile.openstreetmap.org/19/134841/195354.png\n",
      "Failed to download: https://c.tile.openstreetmap.org/19/134842/195353.png\n",
      "Failed to download: https://c.tile.openstreetmap.org/19/134842/195354.png\n",
      "Failed to download: https://c.tile.openstreetmap.org/19/134845/195352.png\n",
      "Failed to download: https://c.tile.openstreetmap.org/19/134845/195353.png\n",
      "Failed to download: https://c.tile.openstreetmap.org/19/134846/195352.png\n",
      "Failed to download: https://c.tile.openstreetmap.org/19/134846/195353.png\n",
      "Failed to download: https://c.tile.openstreetmap.org/19/134846/195354.png\n",
      "Failed to download: https://c.tile.openstreetmap.org/19/134846/195355.png\n",
      "Failed to download: https://c.tile.openstreetmap.org/19/134847/195356.png\n",
      "Failed to download: https://c.tile.openstreetmap.org/19/134848/195338.png\n",
      "Failed to download: https://c.tile.openstreetmap.org/19/134848/195343.png\n",
      "Failed to download: https://c.tile.openstreetmap.org/19/134848/195355.png\n",
      "Failed to download: https://c.tile.openstreetmap.org/19/134848/195356.png\n",
      "Failed to download: https://c.tile.openstreetmap.org/19/134849/195340.png\n",
      "Failed to download: https://c.tile.openstreetmap.org/19/134849/195344.png\n",
      "Failed to download: https://c.tile.openstreetmap.org/19/134849/195354.png\n",
      "Failed to download: https://c.tile.openstreetmap.org/19/134850/195345.png\n",
      "Failed to download: https://c.tile.openstreetmap.org/19/134851/195353.png\n",
      "Failed to download: https://c.tile.openstreetmap.org/19/134852/195340.png\n",
      "Failed to download: https://c.tile.openstreetmap.org/19/134852/195341.png\n",
      "Failed to download: https://c.tile.openstreetmap.org/19/134854/195342.png\n",
      "Failed to download: https://c.tile.openstreetmap.org/19/134855/195337.png\n",
      "Failed to download: https://c.tile.openstreetmap.org/19/134855/195341.png\n",
      "Failed to download: https://c.tile.openstreetmap.org/19/134855/195356.png\n",
      "Failed to download: https://c.tile.openstreetmap.org/19/134856/195337.png\n",
      "Failed to download: https://c.tile.openstreetmap.org/19/134856/195342.png\n",
      "Failed to download: https://c.tile.openstreetmap.org/19/134856/195346.png\n",
      "Failed to download: https://c.tile.openstreetmap.org/19/134856/195348.png\n",
      "Failed to download: https://c.tile.openstreetmap.org/19/134856/195349.png\n",
      "Failed to download: https://c.tile.openstreetmap.org/19/134856/195351.png\n",
      "Failed to download: https://c.tile.openstreetmap.org/19/134856/195354.png\n",
      "Failed to download: https://c.tile.openstreetmap.org/19/134857/195343.png\n",
      "Failed to download: https://c.tile.openstreetmap.org/19/134857/195346.png\n",
      "Failed to download: https://c.tile.openstreetmap.org/19/134857/195349.png\n",
      "Failed to download: https://c.tile.openstreetmap.org/19/134857/195350.png\n",
      "Failed to download: https://c.tile.openstreetmap.org/19/134857/195356.png\n",
      "Failed to download: https://c.tile.openstreetmap.org/19/134858/195338.png\n",
      "Failed to download: https://c.tile.openstreetmap.org/19/134858/195341.png\n",
      "Failed to download: https://c.tile.openstreetmap.org/19/134858/195343.png\n",
      "Failed to download: https://c.tile.openstreetmap.org/19/134858/195344.png\n",
      "Failed to download: https://c.tile.openstreetmap.org/19/134858/195345.png\n",
      "Failed to download: https://c.tile.openstreetmap.org/19/134859/195355.png\n"
     ]
    }
   ],
   "source": [
    "tr = TileRipper(lat, lon)\n",
    "tr.download_tiles(10,10,10,10)"
   ]
  },
  {
   "cell_type": "code",
   "execution_count": 100,
   "metadata": {},
   "outputs": [
    {
     "data": {
      "application/vnd.jupyter.widget-view+json": {
       "model_id": "3cafdcd15b594401add172e114218a85",
       "version_major": 2,
       "version_minor": 0
      },
      "text/plain": [
       "Button(description='Rail', style=ButtonStyle())"
      ]
     },
     "metadata": {},
     "output_type": "display_data"
    },
    {
     "data": {
      "application/vnd.jupyter.widget-view+json": {
       "model_id": "d20116ed1742447fbc626058a8e4e01b",
       "version_major": 2,
       "version_minor": 0
      },
      "text/plain": [
       "Button(description='Other', style=ButtonStyle())"
      ]
     },
     "metadata": {},
     "output_type": "display_data"
    },
    {
     "data": {
      "application/vnd.jupyter.widget-view+json": {
       "model_id": "1341d5e4217d4b18a9034fd9dc64cc67",
       "version_major": 2,
       "version_minor": 0
      },
      "text/plain": [
       "Output()"
      ]
     },
     "metadata": {},
     "output_type": "display_data"
    }
   ],
   "source": [
    "tr.assign_tiles_labels()\n"
   ]
  },
  {
   "cell_type": "code",
   "execution_count": 103,
   "metadata": {},
   "outputs": [
    {
     "name": "stdout",
     "output_type": "stream",
     "text": [
      "143\n"
     ]
    }
   ],
   "source": [
    "#Printing number of files in the folder\n",
    "directory = \"./railroad\"\n",
    "list = os.listdir(directory) # dir is your directory path\n",
    "number_files = len(list)\n",
    "print(number_files)"
   ]
  },
  {
   "cell_type": "code",
   "execution_count": 104,
   "metadata": {},
   "outputs": [
    {
     "name": "stdout",
     "output_type": "stream",
     "text": [
      "208\n"
     ]
    }
   ],
   "source": [
    "#Printing number of files in the folder\n",
    "directory = \"./other\"\n",
    "list = os.listdir(directory) # dir is your directory path\n",
    "number_files = len(list)\n",
    "print(number_files)"
   ]
  },
  {
   "cell_type": "code",
   "execution_count": null,
   "metadata": {},
   "outputs": [],
   "source": []
  },
  {
   "cell_type": "code",
   "execution_count": null,
   "metadata": {},
   "outputs": [],
   "source": []
  },
  {
   "cell_type": "code",
   "execution_count": null,
   "metadata": {},
   "outputs": [],
   "source": []
  }
 ],
 "metadata": {
  "kernelspec": {
   "display_name": "Python 3",
   "language": "python",
   "name": "python3"
  },
  "language_info": {
   "codemirror_mode": {
    "name": "ipython",
    "version": 3
   },
   "file_extension": ".py",
   "mimetype": "text/x-python",
   "name": "python",
   "nbconvert_exporter": "python",
   "pygments_lexer": "ipython3",
   "version": "3.7.3"
  }
 },
 "nbformat": 4,
 "nbformat_minor": 2
}
